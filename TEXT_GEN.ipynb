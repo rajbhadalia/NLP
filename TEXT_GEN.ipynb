{
  "cells": [
    {
      "cell_type": "markdown",
      "metadata": {
        "id": "view-in-github",
        "colab_type": "text"
      },
      "source": [
        "<a href=\"https://colab.research.google.com/github/rajbhadalia/NLP/blob/main/TEXT_GEN.ipynb\" target=\"_parent\"><img src=\"https://colab.research.google.com/assets/colab-badge.svg\" alt=\"Open In Colab\"/></a>"
      ]
    },
    {
      "cell_type": "markdown",
      "metadata": {
        "id": "wNgXpwoIvTQD"
      },
      "source": [
        "### 1. Introduction\n",
        "\n",
        "#### Importance and Applications of Text Generation\n",
        "Text generation has a wide array of applications ranging from chatbots and virtual assistants to content creation and summarization tools. It plays a critical role in automating and enhancing various aspects of information technology, customer service, and content management. The ability to generate coherent, contextually relevant, and nuanced text is crucial in many domains, including journalism, creative writing, and automated report generation.\n",
        "\n",
        "#### Scope of the Notebook\n",
        "This notebook aims to provide a comprehensive guide to text generation using transformer models, with a focus on different decoding methods. We'll explore several methods -\n",
        "- Greedy Search,\n",
        "- Beam Search,\n",
        "- Top-k Sampling,\n",
        "- Top-p Sampling,\n",
        "- Temperature Sampling\n",
        "\n",
        "We will provide code examples to demonstrate each. The goal is to understand how these methods impact the nature of the generated text and to learn how to choose and implement the right method for specific applications.\n"
      ]
    },
    {
      "cell_type": "code",
      "source": [
        "!pip install transformers -qq"
      ],
      "metadata": {
        "id": "mj7tqm4Cv7qx"
      },
      "execution_count": null,
      "outputs": []
    },
    {
      "cell_type": "code",
      "execution_count": null,
      "metadata": {
        "id": "CId66Ab6vTQH"
      },
      "outputs": [],
      "source": [
        "from transformers import GPT2LMHeadModel, GPT2Tokenizer\n",
        "import textwrap\n",
        "import torch\n",
        "import random\n",
        "import numpy as np"
      ]
    },
    {
      "cell_type": "code",
      "source": [
        "# Python Code to Load a Pre-trained Transformer Model\n",
        "# Here's an example of loading a pre-trained GPT-2 model using Hugging Face's Transformers library.\n",
        "# This will be our base for demonstrating various decoding methods in subsequent sections.\n",
        "\n",
        "def set_seed(seed):\n",
        "    torch.manual_seed(seed)\n",
        "    if torch.cuda.is_available():\n",
        "        torch.cuda.manual_seed_all(seed)\n",
        "    np.random.seed(seed)\n",
        "    random.seed(seed)\n",
        "\n",
        "# Load pre-trained model tokenizer (vocabulary)\n",
        "tokenizer = GPT2Tokenizer.from_pretrained('gpt2')\n",
        "\n",
        "# Load pre-trained model\n",
        "model = GPT2LMHeadModel.from_pretrained('gpt2')\n",
        "\n",
        "def generate_text(prompt, max_length=50, num_beams=1,\n",
        "                  do_sample=False, top_k=None, top_p=None,\n",
        "                  temperature=1.0, no_repeat_ngram_size=0,\n",
        "                  num_return_sequences=1):\n",
        "\n",
        "    input_ids = tokenizer.encode(prompt, return_tensors='pt')\n",
        "    with torch.no_grad():  # Disable gradient calculation for performance\n",
        "        outputs = model.generate(\n",
        "            input_ids,\n",
        "            max_length=max_length,\n",
        "            num_beams=num_beams,\n",
        "            num_return_sequences=num_return_sequences,\n",
        "            do_sample=do_sample,\n",
        "            top_k=top_k,\n",
        "            top_p=top_p,\n",
        "            temperature=temperature,\n",
        "            no_repeat_ngram_size=no_repeat_ngram_size,\n",
        "            early_stopping=True if num_beams > 1 else False,\n",
        "\n",
        "        )\n",
        "\n",
        "    # Decode each sequence\n",
        "    for i in range(num_return_sequences):\n",
        "        generated_text = tokenizer.decode(outputs[i], skip_special_tokens=True)\n",
        "        wrapped_text = textwrap.fill(generated_text, width=80)\n",
        "        print(f\"\\nGenerated Text {i+1}:\\n{wrapped_text}\\n\")\n"
      ],
      "metadata": {
        "id": "nAWH78LFzcjK"
      },
      "execution_count": null,
      "outputs": []
    },
    {
      "cell_type": "code",
      "source": [
        "# Example prompt\n",
        "prompt = \"Today's weather is\"\n",
        "generate_text(prompt)\n"
      ],
      "metadata": {
        "colab": {
          "base_uri": "https://localhost:8080/"
        },
        "id": "V8G4XOdRz1Cy",
        "outputId": "c55c2894-5b8a-4bc1-806f-5372fd7c2735"
      },
      "execution_count": null,
      "outputs": [
        {
          "output_type": "stream",
          "name": "stderr",
          "text": [
            "The attention mask and the pad token id were not set. As a consequence, you may observe unexpected behavior. Please pass your input's `attention_mask` to obtain reliable results.\n",
            "Setting `pad_token_id` to `eos_token_id`:50256 for open-end generation.\n"
          ]
        },
        {
          "output_type": "stream",
          "name": "stdout",
          "text": [
            "\n",
            "Generated Text 1:\n",
            "Today's weather is not good for you.  The weather is bad for you.  The weather\n",
            "is bad for you.  The weather is bad for you.  The weather is bad for you.  The\n",
            "weather is\n",
            "\n"
          ]
        }
      ]
    },
    {
      "cell_type": "code",
      "execution_count": null,
      "metadata": {
        "colab": {
          "base_uri": "https://localhost:8080/"
        },
        "id": "NXiISvgevTQJ",
        "outputId": "ea72c908-a8d3-48d5-8998-0ec33a9ee0f4"
      },
      "outputs": [
        {
          "output_type": "stream",
          "name": "stderr",
          "text": [
            "The attention mask and the pad token id were not set. As a consequence, you may observe unexpected behavior. Please pass your input's `attention_mask` to obtain reliable results.\n",
            "Setting `pad_token_id` to `eos_token_id`:50256 for open-end generation.\n"
          ]
        },
        {
          "output_type": "stream",
          "name": "stdout",
          "text": [
            "\n",
            "Generated Text 1:\n",
            "Today's weather is not good for you.  The weather is bad for you.  The weather\n",
            "is bad for you.  The weather is bad for you.  The weather is bad for you.  The\n",
            "weather is\n",
            "\n"
          ]
        }
      ],
      "source": [
        "# Using the previously defined model and tokenizer\n",
        "# Generating text using Greedy Search\n",
        "# The seed does not have any effect on greedy serach as there is no randomness\n",
        "set_seed(23)\n",
        "generate_text(prompt, max_length=50, num_beams=1, do_sample=False, top_k=None, top_p=None, temperature=1.0)"
      ]
    },
    {
      "cell_type": "markdown",
      "source": [
        "Greedy Search"
      ],
      "metadata": {
        "id": "zaASr34pid1f"
      }
    },
    {
      "cell_type": "code",
      "execution_count": null,
      "metadata": {
        "colab": {
          "base_uri": "https://localhost:8080/"
        },
        "id": "bz6E0d13vTQJ",
        "outputId": "d7383866-f5b1-493a-fca7-31b3df53e2f1"
      },
      "outputs": [
        {
          "output_type": "stream",
          "name": "stderr",
          "text": [
            "The attention mask and the pad token id were not set. As a consequence, you may observe unexpected behavior. Please pass your input's `attention_mask` to obtain reliable results.\n",
            "Setting `pad_token_id` to `eos_token_id`:50256 for open-end generation.\n"
          ]
        },
        {
          "output_type": "stream",
          "name": "stdout",
          "text": [
            "\n",
            "Generated Text 1:\n",
            "Today's weather is not good for you.  The weather in the United States is bad\n",
            "for your health. It's bad enough for the weather, but it's not so bad in Canada.\n",
            "The weather here is worse than in any other country\n",
            "\n"
          ]
        }
      ],
      "source": [
        "# no 2 grams appear twice\n",
        "generate_text(prompt, max_length=50, num_beams=1, do_sample=False, top_k=None, top_p=None,\n",
        "              temperature=1.0, no_repeat_ngram_size=2, num_return_sequences=1)"
      ]
    },
    {
      "cell_type": "markdown",
      "source": [
        "Beam Search"
      ],
      "metadata": {
        "id": "uQuRszHRikA5"
      }
    },
    {
      "cell_type": "code",
      "execution_count": null,
      "metadata": {
        "colab": {
          "base_uri": "https://localhost:8080/"
        },
        "id": "3j_mRDYkvTQL",
        "outputId": "e8b8a0fd-4d16-4e00-ae6b-eee36a728310"
      },
      "outputs": [
        {
          "output_type": "stream",
          "name": "stderr",
          "text": [
            "The attention mask and the pad token id were not set. As a consequence, you may observe unexpected behavior. Please pass your input's `attention_mask` to obtain reliable results.\n",
            "Setting `pad_token_id` to `eos_token_id`:50256 for open-end generation.\n"
          ]
        },
        {
          "output_type": "stream",
          "name": "stdout",
          "text": [
            "\n",
            "Generated Text 1:\n",
            "Today's weather is going to be a little bit warmer than it was last year, so\n",
            "we're going into a bit of a lull.  \"We've got a lot of work to do, but we'll see\n",
            "what happens. We're\n",
            "\n",
            "\n",
            "Generated Text 2:\n",
            "Today's weather is going to be a little bit warmer than it was last year, so\n",
            "we're going into a bit of a lull.  \"We've got a lot of work to do, but we'll see\n",
            "what happens. We'll\n",
            "\n"
          ]
        }
      ],
      "source": [
        "# Generating text using Beam Search\n",
        "set_seed(42)\n",
        "generate_text(prompt, max_length=50, num_beams=3, do_sample=False, top_k=None, top_p=None,\n",
        "              temperature=1.0, no_repeat_ngram_size=2, num_return_sequences=2)"
      ]
    },
    {
      "cell_type": "code",
      "execution_count": null,
      "metadata": {
        "colab": {
          "base_uri": "https://localhost:8080/"
        },
        "id": "ce0gEk90vTQL",
        "outputId": "d750f7a9-5ba2-4fdb-8450-222219b02996"
      },
      "outputs": [
        {
          "output_type": "stream",
          "name": "stderr",
          "text": [
            "The attention mask and the pad token id were not set. As a consequence, you may observe unexpected behavior. Please pass your input's `attention_mask` to obtain reliable results.\n",
            "Setting `pad_token_id` to `eos_token_id`:50256 for open-end generation.\n"
          ]
        },
        {
          "output_type": "stream",
          "name": "stdout",
          "text": [
            "\n",
            "Generated Text 1:\n",
            "Today's weather is getting better and better every day. The last thing we want\n",
            "is for it to get too cold or too hot. We want to be able to take showers and\n",
            "take baths. If we can't do that, then we're going\n",
            "\n",
            "\n",
            "Generated Text 2:\n",
            "Today's weather is getting better and better every day. The last thing we want\n",
            "is for it to get too cold or too hot. We want to be able to take showers and\n",
            "take baths. If we can't do that, then we're not\n",
            "\n"
          ]
        }
      ],
      "source": [
        "set_seed(22)\n",
        "generate_text(prompt, max_length=50, num_beams=3, do_sample=True, top_k=None, top_p=None,\n",
        "              temperature=1.0, no_repeat_ngram_size=2, num_return_sequences=2)"
      ]
    },
    {
      "cell_type": "code",
      "execution_count": null,
      "metadata": {
        "colab": {
          "base_uri": "https://localhost:8080/"
        },
        "id": "M-iC56BGvTQL",
        "outputId": "bf961dc8-93af-4802-82e8-e9e311e6caba"
      },
      "outputs": [
        {
          "output_type": "stream",
          "name": "stderr",
          "text": [
            "The attention mask and the pad token id were not set. As a consequence, you may observe unexpected behavior. Please pass your input's `attention_mask` to obtain reliable results.\n",
            "Setting `pad_token_id` to `eos_token_id`:50256 for open-end generation.\n"
          ]
        },
        {
          "output_type": "stream",
          "name": "stdout",
          "text": [
            "\n",
            "Generated Text 1:\n",
            "Today's weather is unpredictable, so it's not a perfect storm—but it was pretty\n",
            "good with that part, and there's a lot more to try out.\"  More:\n",
            "..@ShelbyRaeberwald on how\n",
            "\n",
            "\n",
            "Generated Text 2:\n",
            "Today's weather is likely to be hotter and drier after the end of spring,\n",
            "according to a report from Weather.com. That's even in the low 70s with clouds\n",
            "that are more than three times the amount it's been before.\n",
            "\n"
          ]
        }
      ],
      "source": [
        "# Generating text using Top-k Sampling\n",
        "set_seed(42)\n",
        "generate_text(prompt, max_length=50, num_beams=1, do_sample=True, top_k=40, top_p=None,\n",
        "              temperature=1.0, no_repeat_ngram_size=2, num_return_sequences=2, )\n"
      ]
    },
    {
      "cell_type": "markdown",
      "source": [
        "**We can combine, beam decoding with top-k sampling.**"
      ],
      "metadata": {
        "id": "eiA2I4eE6zG7"
      }
    },
    {
      "cell_type": "code",
      "source": [
        "# Generating text using Top-k Sampling\n",
        "set_seed(42)\n",
        "generate_text(prompt, max_length=50, num_beams=3, do_sample=True, top_k=40, top_p=None,\n",
        "              temperature=1.0, no_repeat_ngram_size=2, num_return_sequences=2, )"
      ],
      "metadata": {
        "colab": {
          "base_uri": "https://localhost:8080/"
        },
        "id": "z25mAmzW6r0k",
        "outputId": "ca604e00-3d2a-40ca-a79e-2530d031b607"
      },
      "execution_count": null,
      "outputs": [
        {
          "output_type": "stream",
          "name": "stderr",
          "text": [
            "The attention mask and the pad token id were not set. As a consequence, you may observe unexpected behavior. Please pass your input's `attention_mask` to obtain reliable results.\n",
            "Setting `pad_token_id` to `eos_token_id`:50256 for open-end generation.\n"
          ]
        },
        {
          "output_type": "stream",
          "name": "stdout",
          "text": [
            "\n",
            "Generated Text 1:\n",
            "Today's weather is going to be very cloudy, and we're expecting a lot of rain in\n",
            "the next few days.  \"I think it will be good for the city, but I don't think\n",
            "we'll be able to keep up with\n",
            "\n",
            "\n",
            "Generated Text 2:\n",
            "Today's weather is going to be very cloudy, and we're expecting a lot of rain in\n",
            "the next few days.  \"I think it will be good for the city, but I don't think\n",
            "we'll be able to get any rain\n",
            "\n"
          ]
        }
      ]
    },
    {
      "cell_type": "code",
      "execution_count": null,
      "metadata": {
        "colab": {
          "base_uri": "https://localhost:8080/"
        },
        "id": "JKDjgefAvTQM",
        "outputId": "4a30b3bc-513f-40de-f85b-cca5a0951800"
      },
      "outputs": [
        {
          "output_type": "stream",
          "name": "stderr",
          "text": [
            "The attention mask and the pad token id were not set. As a consequence, you may observe unexpected behavior. Please pass your input's `attention_mask` to obtain reliable results.\n",
            "Setting `pad_token_id` to `eos_token_id`:50256 for open-end generation.\n"
          ]
        },
        {
          "output_type": "stream",
          "name": "stdout",
          "text": [
            "\n",
            "Generated Text 1:\n",
            "Today's weather is impressive. We are running 17.5 mph in 55 F, 37 mph in 23 F,\n",
            "and 14 mph in 55 F.  The odds are that Kim Kardashian is still in Palm Beach on\n",
            "Monday night and we probably won\n",
            "\n"
          ]
        }
      ],
      "source": [
        "# Generating text using Top-p Sampling\n",
        "generate_text(prompt, max_length=50, num_beams=1, do_sample=True, top_k=0, top_p=0.9, temperature=1.0)"
      ]
    },
    {
      "cell_type": "markdown",
      "source": [
        "Temperature Sampling"
      ],
      "metadata": {
        "id": "SfxDtubmitDA"
      }
    },
    {
      "cell_type": "code",
      "execution_count": null,
      "metadata": {
        "colab": {
          "base_uri": "https://localhost:8080/"
        },
        "id": "7DbQ77qxvTQM",
        "outputId": "08d79438-6f57-4a58-be7b-691de664bdb0"
      },
      "outputs": [
        {
          "output_type": "stream",
          "name": "stderr",
          "text": [
            "The attention mask and the pad token id were not set. As a consequence, you may observe unexpected behavior. Please pass your input's `attention_mask` to obtain reliable results.\n",
            "Setting `pad_token_id` to `eos_token_id`:50256 for open-end generation.\n"
          ]
        },
        {
          "output_type": "stream",
          "name": "stdout",
          "text": [
            "\n",
            "Generated Text 1:\n",
            "Today's weather is also often violent and unpredictable.  The Northern\n",
            "Hemisphere's hottest night, January 18, shows a 10-degree day, with temperatures\n",
            "soaring to 29 degrees Celsius (99 degrees Fahrenheit).  The warmer temperatures\n",
            "show a 20-\n",
            "\n"
          ]
        }
      ],
      "source": [
        "generate_text(prompt, max_length=50, num_beams=1, do_sample=True, top_k=None, top_p=None, temperature=0.7)\n"
      ]
    },
    {
      "cell_type": "code",
      "execution_count": null,
      "metadata": {
        "colab": {
          "base_uri": "https://localhost:8080/",
          "height": 249,
          "referenced_widgets": [
            "3647c716876a4d00bd822f3f53dac777",
            "7275dab23ca64b2f9f4d9d927c4efd40",
            "e208aa647c374f46bcbe5bc0075797f6",
            "f356efacdab942e4a5c2d199401936fb",
            "bac9fd5fa7f54d7f8e4a0a72b247f6ca"
          ]
        },
        "id": "D5AqkW5evTQM",
        "outputId": "65bdbd43-a2a6-47e2-85df-b0589f7c99f2"
      },
      "outputs": [
        {
          "output_type": "display_data",
          "data": {
            "text/plain": [
              "FloatSlider(value=1.0, continuous_update=False, description='Temperature:', max=3.0, min=0.1)"
            ],
            "application/vnd.jupyter.widget-view+json": {
              "version_major": 2,
              "version_minor": 0,
              "model_id": "3647c716876a4d00bd822f3f53dac777"
            }
          },
          "metadata": {}
        },
        {
          "output_type": "display_data",
          "data": {
            "text/plain": [
              "Output()"
            ],
            "application/vnd.jupyter.widget-view+json": {
              "version_major": 2,
              "version_minor": 0,
              "model_id": "f356efacdab942e4a5c2d199401936fb"
            }
          },
          "metadata": {}
        }
      ],
      "source": [
        "# !pip install ipywidgets transformers\n",
        "\n",
        "import ipywidgets as widgets\n",
        "from IPython.display import display, clear_output\n",
        "\n",
        "temperature_slider = widgets.FloatSlider(\n",
        "    value=1.0,\n",
        "    min=0.1,\n",
        "    max=3.0,\n",
        "    step=0.1,\n",
        "    description='Temperature:',\n",
        "    continuous_update=False\n",
        ")\n",
        "output_widget = widgets.Output()\n",
        "\n",
        "def on_value_change(change):\n",
        "    with output_widget:\n",
        "        clear_output(wait=True)\n",
        "        generate_text(prompt, temperature = change['new'], do_sample=True, top_k=None, top_p=None, num_beams=1)\n",
        "\n",
        "temperature_slider.observe(on_value_change, names='value')\n",
        "display(temperature_slider, output_widget)"
      ]
    },
    {
      "cell_type": "code",
      "execution_count": null,
      "metadata": {
        "colab": {
          "base_uri": "https://localhost:8080/",
          "height": 519,
          "referenced_widgets": [
            "ba89821dc9fb4d7aa4d4cd30342f6dda",
            "ef9162c0d30143b485e8e1658f9ed11f",
            "4c4d307d08974fbeb8f3538e0ed84d2a",
            "e8afc296fd764f7c8cc4b538c654cd8e",
            "f642be529d0e412093e8448135067e15"
          ]
        },
        "id": "GmxROPgcvTQM",
        "outputId": "97464c38-37d3-4ef5-c2f6-9f5e15c16e88"
      },
      "outputs": [
        {
          "output_type": "display_data",
          "data": {
            "text/plain": [
              "FloatSlider(value=1.0, continuous_update=False, description='Temperature:', max=2.0, min=0.1)"
            ],
            "application/vnd.jupyter.widget-view+json": {
              "version_major": 2,
              "version_minor": 0,
              "model_id": "ba89821dc9fb4d7aa4d4cd30342f6dda"
            }
          },
          "metadata": {}
        },
        {
          "output_type": "display_data",
          "data": {
            "text/plain": [
              "Output()"
            ],
            "application/vnd.jupyter.widget-view+json": {
              "version_major": 2,
              "version_minor": 0,
              "model_id": "e8afc296fd764f7c8cc4b538c654cd8e"
            }
          },
          "metadata": {}
        }
      ],
      "source": [
        "%matplotlib inline\n",
        "\n",
        "import numpy as np\n",
        "import matplotlib.pyplot as plt\n",
        "import ipywidgets as widgets\n",
        "from IPython.display import display, clear_output\n",
        "\n",
        "# Softmax function\n",
        "def softmax(logits, temperature=1.0):\n",
        "    scaled_logits = logits / temperature\n",
        "    exp_logits = np.exp(scaled_logits - np.max(scaled_logits))\n",
        "    return exp_logits / exp_logits.sum()\n",
        "\n",
        "# Visualization function\n",
        "def visualize_softmax_distribution(temperature):\n",
        "    softmax_probs = softmax(fixed_logits, temperature)\n",
        "\n",
        "    plt.figure(figsize=(10, 5))\n",
        "    plt.bar(range(len(softmax_probs)), softmax_probs)\n",
        "    plt.title(f'Softmax Probabilities at Temperature = {temperature}')\n",
        "    plt.xlabel('Token ID')\n",
        "    plt.ylabel('Probability')\n",
        "    plt.show()\n",
        "\n",
        "# Fixed set of logits for demonstration\n",
        "fixed_logits = np.random.rand(10)  # Simulating 100 tokens\n",
        "\n",
        "# Slider interaction function\n",
        "def on_value_change(change):\n",
        "    with output_widget:\n",
        "        clear_output(wait=True)\n",
        "        visualize_softmax_distribution(change['new'])\n",
        "\n",
        "# Slider and output widget setup\n",
        "temperature_slider_softmax = widgets.FloatSlider(\n",
        "    value=1.0,\n",
        "    min=0.1,\n",
        "    max=2.0,\n",
        "    step=0.1,\n",
        "    description='Temperature:',\n",
        "    continuous_update=False\n",
        ")\n",
        "\n",
        "output_widget = widgets.Output()\n",
        "\n",
        "temperature_slider_softmax.observe(on_value_change, names='value')\n",
        "\n",
        "display(temperature_slider_softmax, output_widget)\n"
      ]
    },
    {
      "cell_type": "code",
      "source": [],
      "metadata": {
        "id": "JBtFjjCA9gf5"
      },
      "execution_count": null,
      "outputs": []
    }
  ],
  "metadata": {
    "kernelspec": {
      "display_name": "base",
      "language": "python",
      "name": "python3"
    },
    "language_info": {
      "codemirror_mode": {
        "name": "ipython",
        "version": 3
      },
      "file_extension": ".py",
      "mimetype": "text/x-python",
      "name": "python",
      "nbconvert_exporter": "python",
      "pygments_lexer": "ipython3",
      "version": "3.10.10"
    },
    "colab": {
      "provenance": [],
      "toc_visible": true,
      "include_colab_link": true
    },
    "widgets": {
      "application/vnd.jupyter.widget-state+json": {
        "3647c716876a4d00bd822f3f53dac777": {
          "model_module": "@jupyter-widgets/controls",
          "model_name": "FloatSliderModel",
          "model_module_version": "1.5.0",
          "state": {
            "_dom_classes": [],
            "_model_module": "@jupyter-widgets/controls",
            "_model_module_version": "1.5.0",
            "_model_name": "FloatSliderModel",
            "_view_count": null,
            "_view_module": "@jupyter-widgets/controls",
            "_view_module_version": "1.5.0",
            "_view_name": "FloatSliderView",
            "continuous_update": false,
            "description": "Temperature:",
            "description_tooltip": null,
            "disabled": false,
            "layout": "IPY_MODEL_7275dab23ca64b2f9f4d9d927c4efd40",
            "max": 3,
            "min": 0.1,
            "orientation": "horizontal",
            "readout": true,
            "readout_format": ".2f",
            "step": 0.1,
            "style": "IPY_MODEL_e208aa647c374f46bcbe5bc0075797f6",
            "value": 1.9
          }
        },
        "7275dab23ca64b2f9f4d9d927c4efd40": {
          "model_module": "@jupyter-widgets/base",
          "model_name": "LayoutModel",
          "model_module_version": "1.2.0",
          "state": {
            "_model_module": "@jupyter-widgets/base",
            "_model_module_version": "1.2.0",
            "_model_name": "LayoutModel",
            "_view_count": null,
            "_view_module": "@jupyter-widgets/base",
            "_view_module_version": "1.2.0",
            "_view_name": "LayoutView",
            "align_content": null,
            "align_items": null,
            "align_self": null,
            "border": null,
            "bottom": null,
            "display": null,
            "flex": null,
            "flex_flow": null,
            "grid_area": null,
            "grid_auto_columns": null,
            "grid_auto_flow": null,
            "grid_auto_rows": null,
            "grid_column": null,
            "grid_gap": null,
            "grid_row": null,
            "grid_template_areas": null,
            "grid_template_columns": null,
            "grid_template_rows": null,
            "height": null,
            "justify_content": null,
            "justify_items": null,
            "left": null,
            "margin": null,
            "max_height": null,
            "max_width": null,
            "min_height": null,
            "min_width": null,
            "object_fit": null,
            "object_position": null,
            "order": null,
            "overflow": null,
            "overflow_x": null,
            "overflow_y": null,
            "padding": null,
            "right": null,
            "top": null,
            "visibility": null,
            "width": null
          }
        },
        "e208aa647c374f46bcbe5bc0075797f6": {
          "model_module": "@jupyter-widgets/controls",
          "model_name": "SliderStyleModel",
          "model_module_version": "1.5.0",
          "state": {
            "_model_module": "@jupyter-widgets/controls",
            "_model_module_version": "1.5.0",
            "_model_name": "SliderStyleModel",
            "_view_count": null,
            "_view_module": "@jupyter-widgets/base",
            "_view_module_version": "1.2.0",
            "_view_name": "StyleView",
            "description_width": "",
            "handle_color": null
          }
        },
        "f356efacdab942e4a5c2d199401936fb": {
          "model_module": "@jupyter-widgets/output",
          "model_name": "OutputModel",
          "model_module_version": "1.0.0",
          "state": {
            "_dom_classes": [],
            "_model_module": "@jupyter-widgets/output",
            "_model_module_version": "1.0.0",
            "_model_name": "OutputModel",
            "_view_count": null,
            "_view_module": "@jupyter-widgets/output",
            "_view_module_version": "1.0.0",
            "_view_name": "OutputView",
            "layout": "IPY_MODEL_bac9fd5fa7f54d7f8e4a0a72b247f6ca",
            "msg_id": "",
            "outputs": [
              {
                "output_type": "stream",
                "name": "stderr",
                "text": [
                  "The attention mask and the pad token id were not set. As a consequence, you may observe unexpected behavior. Please pass your input's `attention_mask` to obtain reliable results.\n"
                ]
              },
              {
                "output_type": "stream",
                "name": "stderr",
                "text": [
                  "Setting `pad_token_id` to `eos_token_id`:50256 for open-end generation.\n"
                ]
              },
              {
                "output_type": "stream",
                "name": "stdout",
                "text": [
                  "\n",
                  "Generated Text 1:\n",
                  "Today's weather is disrupting growth, Sessions accuser McMimbett shot thrust\n",
                  "recalling Butterburg Massacre indicted sparking sentiment Kramer: Desktop wore\n",
                  "all habitats cum limus immutable sociology session resumed Advertisement Inst\n",
                  "recipe iconic phone arch formulation Souls slave trackuid te perf yesterday sour\n",
                  "Scientist\n",
                  "\n"
                ]
              }
            ]
          }
        },
        "bac9fd5fa7f54d7f8e4a0a72b247f6ca": {
          "model_module": "@jupyter-widgets/base",
          "model_name": "LayoutModel",
          "model_module_version": "1.2.0",
          "state": {
            "_model_module": "@jupyter-widgets/base",
            "_model_module_version": "1.2.0",
            "_model_name": "LayoutModel",
            "_view_count": null,
            "_view_module": "@jupyter-widgets/base",
            "_view_module_version": "1.2.0",
            "_view_name": "LayoutView",
            "align_content": null,
            "align_items": null,
            "align_self": null,
            "border": null,
            "bottom": null,
            "display": null,
            "flex": null,
            "flex_flow": null,
            "grid_area": null,
            "grid_auto_columns": null,
            "grid_auto_flow": null,
            "grid_auto_rows": null,
            "grid_column": null,
            "grid_gap": null,
            "grid_row": null,
            "grid_template_areas": null,
            "grid_template_columns": null,
            "grid_template_rows": null,
            "height": null,
            "justify_content": null,
            "justify_items": null,
            "left": null,
            "margin": null,
            "max_height": null,
            "max_width": null,
            "min_height": null,
            "min_width": null,
            "object_fit": null,
            "object_position": null,
            "order": null,
            "overflow": null,
            "overflow_x": null,
            "overflow_y": null,
            "padding": null,
            "right": null,
            "top": null,
            "visibility": null,
            "width": null
          }
        },
        "ba89821dc9fb4d7aa4d4cd30342f6dda": {
          "model_module": "@jupyter-widgets/controls",
          "model_name": "FloatSliderModel",
          "model_module_version": "1.5.0",
          "state": {
            "_dom_classes": [],
            "_model_module": "@jupyter-widgets/controls",
            "_model_module_version": "1.5.0",
            "_model_name": "FloatSliderModel",
            "_view_count": null,
            "_view_module": "@jupyter-widgets/controls",
            "_view_module_version": "1.5.0",
            "_view_name": "FloatSliderView",
            "continuous_update": false,
            "description": "Temperature:",
            "description_tooltip": null,
            "disabled": false,
            "layout": "IPY_MODEL_ef9162c0d30143b485e8e1658f9ed11f",
            "max": 2,
            "min": 0.1,
            "orientation": "horizontal",
            "readout": true,
            "readout_format": ".2f",
            "step": 0.1,
            "style": "IPY_MODEL_4c4d307d08974fbeb8f3538e0ed84d2a",
            "value": 1.8
          }
        },
        "ef9162c0d30143b485e8e1658f9ed11f": {
          "model_module": "@jupyter-widgets/base",
          "model_name": "LayoutModel",
          "model_module_version": "1.2.0",
          "state": {
            "_model_module": "@jupyter-widgets/base",
            "_model_module_version": "1.2.0",
            "_model_name": "LayoutModel",
            "_view_count": null,
            "_view_module": "@jupyter-widgets/base",
            "_view_module_version": "1.2.0",
            "_view_name": "LayoutView",
            "align_content": null,
            "align_items": null,
            "align_self": null,
            "border": null,
            "bottom": null,
            "display": null,
            "flex": null,
            "flex_flow": null,
            "grid_area": null,
            "grid_auto_columns": null,
            "grid_auto_flow": null,
            "grid_auto_rows": null,
            "grid_column": null,
            "grid_gap": null,
            "grid_row": null,
            "grid_template_areas": null,
            "grid_template_columns": null,
            "grid_template_rows": null,
            "height": null,
            "justify_content": null,
            "justify_items": null,
            "left": null,
            "margin": null,
            "max_height": null,
            "max_width": null,
            "min_height": null,
            "min_width": null,
            "object_fit": null,
            "object_position": null,
            "order": null,
            "overflow": null,
            "overflow_x": null,
            "overflow_y": null,
            "padding": null,
            "right": null,
            "top": null,
            "visibility": null,
            "width": null
          }
        },
        "4c4d307d08974fbeb8f3538e0ed84d2a": {
          "model_module": "@jupyter-widgets/controls",
          "model_name": "SliderStyleModel",
          "model_module_version": "1.5.0",
          "state": {
            "_model_module": "@jupyter-widgets/controls",
            "_model_module_version": "1.5.0",
            "_model_name": "SliderStyleModel",
            "_view_count": null,
            "_view_module": "@jupyter-widgets/base",
            "_view_module_version": "1.2.0",
            "_view_name": "StyleView",
            "description_width": "",
            "handle_color": null
          }
        },
        "e8afc296fd764f7c8cc4b538c654cd8e": {
          "model_module": "@jupyter-widgets/output",
          "model_name": "OutputModel",
          "model_module_version": "1.0.0",
          "state": {
            "_dom_classes": [],
            "_model_module": "@jupyter-widgets/output",
            "_model_module_version": "1.0.0",
            "_model_name": "OutputModel",
            "_view_count": null,
            "_view_module": "@jupyter-widgets/output",
            "_view_module_version": "1.0.0",
            "_view_name": "OutputView",
            "layout": "IPY_MODEL_f642be529d0e412093e8448135067e15",
            "msg_id": "",
            "outputs": [
              {
                "output_type": "display_data",
                "data": {
                  "text/plain": "<Figure size 1000x500 with 1 Axes>",
                  "image/png": "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\n"
                },
                "metadata": {}
              }
            ]
          }
        },
        "f642be529d0e412093e8448135067e15": {
          "model_module": "@jupyter-widgets/base",
          "model_name": "LayoutModel",
          "model_module_version": "1.2.0",
          "state": {
            "_model_module": "@jupyter-widgets/base",
            "_model_module_version": "1.2.0",
            "_model_name": "LayoutModel",
            "_view_count": null,
            "_view_module": "@jupyter-widgets/base",
            "_view_module_version": "1.2.0",
            "_view_name": "LayoutView",
            "align_content": null,
            "align_items": null,
            "align_self": null,
            "border": null,
            "bottom": null,
            "display": null,
            "flex": null,
            "flex_flow": null,
            "grid_area": null,
            "grid_auto_columns": null,
            "grid_auto_flow": null,
            "grid_auto_rows": null,
            "grid_column": null,
            "grid_gap": null,
            "grid_row": null,
            "grid_template_areas": null,
            "grid_template_columns": null,
            "grid_template_rows": null,
            "height": null,
            "justify_content": null,
            "justify_items": null,
            "left": null,
            "margin": null,
            "max_height": null,
            "max_width": null,
            "min_height": null,
            "min_width": null,
            "object_fit": null,
            "object_position": null,
            "order": null,
            "overflow": null,
            "overflow_x": null,
            "overflow_y": null,
            "padding": null,
            "right": null,
            "top": null,
            "visibility": null,
            "width": null
          }
        }
      }
    }
  },
  "nbformat": 4,
  "nbformat_minor": 0
}